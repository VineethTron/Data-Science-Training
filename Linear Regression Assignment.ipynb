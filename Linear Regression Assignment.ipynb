{
 "cells": [
  {
   "cell_type": "code",
   "execution_count": 1,
   "id": "888ec2a2",
   "metadata": {},
   "outputs": [],
   "source": [
    "import numpy as np\n",
    "import pandas as pd\n",
    "import matplotlib.pyplot as plt"
   ]
  },
  {
   "cell_type": "code",
   "execution_count": 2,
   "id": "74e0805b",
   "metadata": {},
   "outputs": [],
   "source": [
    "data={'City Name':['Toronto','Bathurst','Cessnock','Orange','Tamworth','Liverpool'],\n",
    "     'Per captia income':[8.6,9.3,10.1,8.0,8.3,8.7],\n",
    "      'Death Rate per 1000 residents':[8.4,7.6,5.4,10.6,8.3,9.3]\n",
    "     }"
   ]
  },
  {
   "cell_type": "code",
   "execution_count": 3,
   "id": "4af8439f",
   "metadata": {},
   "outputs": [],
   "source": [
    "df = pd.DataFrame(data)"
   ]
  },
  {
   "cell_type": "code",
   "execution_count": 4,
   "id": "4384f307",
   "metadata": {},
   "outputs": [
    {
     "data": {
      "text/html": [
       "<div>\n",
       "<style scoped>\n",
       "    .dataframe tbody tr th:only-of-type {\n",
       "        vertical-align: middle;\n",
       "    }\n",
       "\n",
       "    .dataframe tbody tr th {\n",
       "        vertical-align: top;\n",
       "    }\n",
       "\n",
       "    .dataframe thead th {\n",
       "        text-align: right;\n",
       "    }\n",
       "</style>\n",
       "<table border=\"1\" class=\"dataframe\">\n",
       "  <thead>\n",
       "    <tr style=\"text-align: right;\">\n",
       "      <th></th>\n",
       "      <th>City Name</th>\n",
       "      <th>Per captia income</th>\n",
       "      <th>Death Rate per 1000 residents</th>\n",
       "    </tr>\n",
       "  </thead>\n",
       "  <tbody>\n",
       "    <tr>\n",
       "      <th>0</th>\n",
       "      <td>Toronto</td>\n",
       "      <td>8.6</td>\n",
       "      <td>8.4</td>\n",
       "    </tr>\n",
       "    <tr>\n",
       "      <th>1</th>\n",
       "      <td>Bathurst</td>\n",
       "      <td>9.3</td>\n",
       "      <td>7.6</td>\n",
       "    </tr>\n",
       "    <tr>\n",
       "      <th>2</th>\n",
       "      <td>Cessnock</td>\n",
       "      <td>10.1</td>\n",
       "      <td>5.4</td>\n",
       "    </tr>\n",
       "    <tr>\n",
       "      <th>3</th>\n",
       "      <td>Orange</td>\n",
       "      <td>8.0</td>\n",
       "      <td>10.6</td>\n",
       "    </tr>\n",
       "    <tr>\n",
       "      <th>4</th>\n",
       "      <td>Tamworth</td>\n",
       "      <td>8.3</td>\n",
       "      <td>8.3</td>\n",
       "    </tr>\n",
       "    <tr>\n",
       "      <th>5</th>\n",
       "      <td>Liverpool</td>\n",
       "      <td>8.7</td>\n",
       "      <td>9.3</td>\n",
       "    </tr>\n",
       "  </tbody>\n",
       "</table>\n",
       "</div>"
      ],
      "text/plain": [
       "   City Name  Per captia income  Death Rate per 1000 residents\n",
       "0    Toronto                8.6                            8.4\n",
       "1   Bathurst                9.3                            7.6\n",
       "2   Cessnock               10.1                            5.4\n",
       "3     Orange                8.0                           10.6\n",
       "4   Tamworth                8.3                            8.3\n",
       "5  Liverpool                8.7                            9.3"
      ]
     },
     "execution_count": 4,
     "metadata": {},
     "output_type": "execute_result"
    }
   ],
   "source": [
    "df"
   ]
  },
  {
   "cell_type": "code",
   "execution_count": 5,
   "id": "e48780e2",
   "metadata": {},
   "outputs": [],
   "source": [
    "x = df[['Per captia income']]\n",
    "y = df['Death Rate per 1000 residents']"
   ]
  },
  {
   "cell_type": "code",
   "execution_count": 6,
   "id": "b0cd1c2f",
   "metadata": {},
   "outputs": [],
   "source": [
    "x1 = df[['Per captia income']]"
   ]
  },
  {
   "cell_type": "code",
   "execution_count": 7,
   "id": "c11d7b69",
   "metadata": {},
   "outputs": [
    {
     "data": {
      "text/plain": [
       "(6, 6)"
      ]
     },
     "execution_count": 7,
     "metadata": {},
     "output_type": "execute_result"
    }
   ],
   "source": [
    "len(x), len(y)"
   ]
  },
  {
   "cell_type": "code",
   "execution_count": 8,
   "id": "ffcf0168",
   "metadata": {},
   "outputs": [
    {
     "data": {
      "text/plain": [
       "LinearRegression()"
      ]
     },
     "execution_count": 8,
     "metadata": {},
     "output_type": "execute_result"
    }
   ],
   "source": [
    "from sklearn.linear_model import LinearRegression\n",
    "lr = LinearRegression()\n",
    "lr.fit(x,y)"
   ]
  },
  {
   "cell_type": "code",
   "execution_count": 9,
   "id": "347c0313",
   "metadata": {},
   "outputs": [],
   "source": [
    "y_pred = lr.predict(x)"
   ]
  },
  {
   "cell_type": "code",
   "execution_count": 10,
   "id": "c5cb3302",
   "metadata": {},
   "outputs": [
    {
     "data": {
      "text/plain": [
       "array([ 8.75986079,  7.28027842,  5.58932715, 10.02807425,  9.39396752,\n",
       "        8.54849188])"
      ]
     },
     "execution_count": 10,
     "metadata": {},
     "output_type": "execute_result"
    }
   ],
   "source": [
    "y_pred"
   ]
  },
  {
   "cell_type": "code",
   "execution_count": 14,
   "id": "fc418e53",
   "metadata": {},
   "outputs": [
    {
     "data": {
      "image/png": "[encoded data removed]",
      "text/plain": [
       "<Figure size 432x288 with 1 Axes>"
      ]
     },
     "metadata": {
      "needs_background": "light"
     },
     "output_type": "display_data"
    }
   ],
   "source": [
    "plt.scatter(x,y,label='Actual Values')\n",
    "plt.plot(x1, y_pred, label='Predicted Values')\n",
    "plt.legend()\n",
    "plt.title(\"Linear Regression Model\")\n",
    "plt.xlabel('Per captia income')\n",
    "plt.ylabel('Death Rate per 1000 residents')\n",
    "plt.show()"
   ]
  },
  {
   "cell_type": "code",
   "execution_count": 22,
   "id": "a141ab51",
   "metadata": {},
   "outputs": [
    {
     "data": {
      "text/plain": [
       "0.8449191600093259"
      ]
     },
     "execution_count": 22,
     "metadata": {},
     "output_type": "execute_result"
    }
   ],
   "source": [
    "lr.score(x, y)"
   ]
  },
  {
   "cell_type": "code",
   "execution_count": 19,
   "id": "0818a959",
   "metadata": {},
   "outputs": [
    {
     "data": {
      "text/plain": [
       "0.8449191600093259"
      ]
     },
     "execution_count": 19,
     "metadata": {},
     "output_type": "execute_result"
    }
   ],
   "source": [
    "from sklearn.metrics import r2_score\n",
    "r2_score(y, y_pred)"
   ]
  },
  {
   "cell_type": "code",
   "execution_count": null,
   "id": "1923d34c",
   "metadata": {},
   "outputs": [],
   "source": []
  }
 ],
 "metadata": {
  "kernelspec": {
   "display_name": "Python 3",
   "language": "python",
   "name": "python3"
  },
  "language_info": {
   "codemirror_mode": {
    "name": "ipython",
    "version": 3
   },
   "file_extension": ".py",
   "mimetype": "text/x-python",
   "name": "python",
   "nbconvert_exporter": "python",
   "pygments_lexer": "ipython3",
   "version": "3.8.8"
  }
 },
 "nbformat": 4,
 "nbformat_minor": 5
}
